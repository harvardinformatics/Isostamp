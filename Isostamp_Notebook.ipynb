{
 "cells": [
  {
   "cell_type": "code",
   "execution_count": 1,
   "metadata": {},
   "outputs": [],
   "source": [
    "from bin.isostamp_search import run as run_isostamp\n",
    "from bin.database_combine import run as run_database_combine"
   ]
  },
  {
   "cell_type": "code",
   "execution_count": null,
   "metadata": {},
   "outputs": [
    {
     "name": "stderr",
     "output_type": "stream",
     "text": [
      "INFO:root:CPU detected, 24 threads specified\n",
      "INFO:root:isostamp run: 0, profile mzML file path: 181216L_SAM04922_HW202_G1-1_CF_profile.mzML\n",
      "INFO:root:step 1: split mzml file\n",
      "37331it [00:44, 836.92it/s] \n",
      "INFO:root:splitting mzml file took 0.75 min\n",
      "INFO:root:MS1 df shape: (13317, 4)\n",
      "INFO:root:MS2 df shape: (24014, 5)\n",
      "INFO:root:step 2: transform MS2 precursor info dataframe to unique feature\n",
      "INFO:root:MS2 precursor info into adjacency list\n",
      "INFO:root:perform depth-first search\n",
      "INFO:root:first depth reduces ms2 size from 24014 to 15739\n",
      "INFO:root:step 3: perform depth-first graph search to reduce search redundancy\n",
      "INFO:root:step 4: slice MS1 by runtime (RT) and pass to multiprocess brainpy fitting\n",
      "100%|██████████| 15739/15739 [57:31<00:00,  4.56it/s] \n",
      "INFO:root:running IsoStamp took 61.20 min\n",
      "INFO:root:181216L_SAM04922_HW202_G1-1_CF_ms1df.csv exported with (15739, 12) shape\n",
      "INFO:root:iteration completed in 61.2 minutes\n",
      "INFO:root:isostamp run: 1, profile mzML file path: 181216L_SAM04923_HW202_G1-2_CF_profile.mzML\n",
      "INFO:root:step 1: split mzml file\n",
      "34124it [00:39, 857.15it/s] \n",
      "INFO:root:splitting mzml file took 0.66 min\n",
      "INFO:root:MS1 df shape: (14447, 4)\n",
      "INFO:root:MS2 df shape: (19677, 5)\n",
      "INFO:root:step 2: transform MS2 precursor info dataframe to unique feature\n",
      "INFO:root:MS2 precursor info into adjacency list\n",
      "INFO:root:perform depth-first search\n",
      "INFO:root:first depth reduces ms2 size from 19677 to 12913\n",
      "INFO:root:step 3: perform depth-first graph search to reduce search redundancy\n",
      "INFO:root:step 4: slice MS1 by runtime (RT) and pass to multiprocess brainpy fitting\n",
      " 50%|████▉     | 6406/12913 [22:56<20:48,  5.21it/s] /opt/conda/lib/python3.7/site-packages/scipy/stats/stats.py:3399: PearsonRConstantInputWarning: An input array is constant; the correlation coefficent is not defined.\n",
      "  warnings.warn(PearsonRConstantInputWarning())\n",
      "100%|██████████| 12913/12913 [50:17<00:00,  4.28it/s]\n",
      "INFO:root:running IsoStamp took 53.53 min\n",
      "INFO:root:181216L_SAM04923_HW202_G1-2_CF_ms1df.csv exported with (12913, 12) shape\n",
      "INFO:root:iteration completed in 53.5 minutes\n",
      "INFO:root:isostamp run: 2, profile mzML file path: 181216L_SAM04924_HW202_G2-1_CF_profile.mzML\n",
      "INFO:root:step 1: split mzml file\n",
      "44654it [00:49, 897.62it/s]\n",
      "INFO:root:splitting mzml file took 0.83 min\n",
      "INFO:root:MS1 df shape: (11000, 4)\n",
      "INFO:root:MS2 df shape: (33654, 5)\n",
      "INFO:root:step 2: transform MS2 precursor info dataframe to unique feature\n",
      "INFO:root:MS2 precursor info into adjacency list\n",
      "INFO:root:perform depth-first search\n",
      "INFO:root:first depth reduces ms2 size from 33654 to 22890\n",
      "INFO:root:step 3: perform depth-first graph search to reduce search redundancy\n",
      "INFO:root:step 4: slice MS1 by runtime (RT) and pass to multiprocess brainpy fitting\n",
      " 14%|█▎        | 3093/22890 [11:15<53:56,  6.12it/s]  /opt/conda/lib/python3.7/site-packages/scipy/stats/stats.py:3399: PearsonRConstantInputWarning: An input array is constant; the correlation coefficent is not defined.\n",
      "  warnings.warn(PearsonRConstantInputWarning())\n",
      " 15%|█▍        | 3410/22890 [12:09<59:31,  5.45it/s]  /opt/conda/lib/python3.7/site-packages/scipy/stats/stats.py:3399: PearsonRConstantInputWarning: An input array is constant; the correlation coefficent is not defined.\n",
      "  warnings.warn(PearsonRConstantInputWarning())\n",
      " 50%|████▉     | 11437/22890 [34:52<29:42,  6.43it/s] /opt/conda/lib/python3.7/site-packages/scipy/stats/stats.py:3399: PearsonRConstantInputWarning: An input array is constant; the correlation coefficent is not defined.\n",
      "  warnings.warn(PearsonRConstantInputWarning())\n",
      "100%|██████████| 22890/22890 [1:07:17<00:00,  5.67it/s]\n",
      "INFO:root:running IsoStamp took 72.59 min\n",
      "INFO:root:181216L_SAM04924_HW202_G2-1_CF_ms1df.csv exported with (22890, 12) shape\n",
      "INFO:root:iteration completed in 72.6 minutes\n",
      "INFO:root:isostamp run: 3, profile mzML file path: 181216L_SAM04925_HW202_G2-2_CF_profile.mzML\n",
      "INFO:root:step 1: split mzml file\n",
      "38265it [00:43, 874.42it/s] \n",
      "INFO:root:splitting mzml file took 0.73 min\n",
      "INFO:root:MS1 df shape: (12766, 4)\n",
      "INFO:root:MS2 df shape: (25499, 5)\n",
      "INFO:root:step 2: transform MS2 precursor info dataframe to unique feature\n",
      "INFO:root:MS2 precursor info into adjacency list\n",
      "INFO:root:perform depth-first search\n",
      "INFO:root:first depth reduces ms2 size from 25499 to 16453\n",
      "INFO:root:step 3: perform depth-first graph search to reduce search redundancy\n",
      "INFO:root:step 4: slice MS1 by runtime (RT) and pass to multiprocess brainpy fitting\n",
      "100%|██████████| 16453/16453 [56:02<00:00,  4.89it/s] \n",
      "INFO:root:running IsoStamp took 60.11 min\n",
      "INFO:root:181216L_SAM04925_HW202_G2-2_CF_ms1df.csv exported with (16453, 12) shape\n",
      "INFO:root:iteration completed in 60.1 minutes\n",
      "INFO:root:isostamp run: 4, profile mzML file path: 181216L_SAM04926_HW202_G3-1_CF_profile.mzML\n",
      "INFO:root:step 1: split mzml file\n",
      "34468it [00:41, 820.95it/s]\n",
      "INFO:root:splitting mzml file took 0.70 min\n",
      "INFO:root:MS1 df shape: (14584, 4)\n",
      "INFO:root:MS2 df shape: (19884, 5)\n",
      "INFO:root:step 2: transform MS2 precursor info dataframe to unique feature\n",
      "INFO:root:MS2 precursor info into adjacency list\n",
      "INFO:root:perform depth-first search\n",
      "INFO:root:first depth reduces ms2 size from 19884 to 13196\n",
      "INFO:root:step 3: perform depth-first graph search to reduce search redundancy\n",
      "INFO:root:step 4: slice MS1 by runtime (RT) and pass to multiprocess brainpy fitting\n",
      "100%|██████████| 13196/13196 [54:56<00:00,  4.00it/s] \n",
      "INFO:root:running IsoStamp took 58.22 min\n",
      "INFO:root:181216L_SAM04926_HW202_G3-1_CF_ms1df.csv exported with (13196, 12) shape\n",
      "INFO:root:iteration completed in 58.2 minutes\n",
      "INFO:root:isostamp run: 5, profile mzML file path: 181216L_SAM04927_HW202_G3-2_CF_profile.mzML\n",
      "INFO:root:step 1: split mzml file\n",
      "31644it [00:38, 812.64it/s]\n",
      "INFO:root:splitting mzml file took 0.65 min\n",
      "INFO:root:MS1 df shape: (15684, 4)\n",
      "INFO:root:MS2 df shape: (15960, 5)\n",
      "INFO:root:step 2: transform MS2 precursor info dataframe to unique feature\n",
      "INFO:root:MS2 precursor info into adjacency list\n",
      "INFO:root:perform depth-first search\n",
      "INFO:root:first depth reduces ms2 size from 15960 to 10332\n",
      "INFO:root:step 3: perform depth-first graph search to reduce search redundancy\n",
      "INFO:root:step 4: slice MS1 by runtime (RT) and pass to multiprocess brainpy fitting\n",
      " 47%|████▋     | 4814/10332 [21:05<22:35,  4.07it/s] /opt/conda/lib/python3.7/site-packages/scipy/stats/stats.py:3399: PearsonRConstantInputWarning: An input array is constant; the correlation coefficent is not defined.\n",
      "  warnings.warn(PearsonRConstantInputWarning())\n",
      " 65%|██████▌   | 6720/10332 [29:15<14:21,  4.19it/s]"
     ]
    }
   ],
   "source": [
    "directory = '/n/woo_lab/Lab/AlexandriaDSouza/IsoStamp/FileSource/'\n",
    "input_folder = 'HW202_input'\n",
    "output_folder = 'HW202_output'\n",
    "#os.environ[\"SLURM_CPUS_ON_NODE\"] = 2\n",
    "run_isostamp(directory, input_folder, output_folder, 24)"
   ]
  },
  {
   "cell_type": "code",
   "execution_count": 4,
   "metadata": {},
   "outputs": [
    {
     "name": "stderr",
     "output_type": "stream",
     "text": [
      "INFO:root:read Sequest target and/or decoy files\n",
      "INFO:root:running 181213L_SAM04901_HW201_G1-1_CF.raw\n",
      "INFO:root:step 4. apply 40% normalized isostamp score and %60 normalized xcorrelation weighting\n",
      "INFO:root:step 5. re-rank by Target-Decoy Approach\n",
      "INFO:root:target Sequest search result CSV file path: /n/woo_lab/Lab/AlexandriaDSouza/IsoStamp/FileSource/HW201_input/HW201_SwissprotDB_allProbe_fixed_noDeamidation_wDMSO_combined-AD_PSMs.txt\n",
      "INFO:root:decoy Sequest search result CSV file path: None\n",
      "INFO:root:Completed in 0.03 minutes\n"
     ]
    }
   ],
   "source": [
    "directory = '/n/woo_lab/Lab/AlexandriaDSouza/IsoStamp/FileSource/'\n",
    "# IMPORTANT: the output from step1 is saved to the output_folder. I suggest moving the step 1 outputs back into this\n",
    "# input folder to run step 2\n",
    "input_folder = 'HW201_input' \n",
    "output_folder = 'HW201_output'\n",
    "tmp_folder = 'tmp_folder'\n",
    "target_csv_filename = 'HW201_SwissprotDB_allProbe_fixed_noDeamidation_wDMSO_combined-AD_PSMs.txt'\n",
    "decoy_csv_filename = ''\n",
    "output_filename = 'HW201_SwissprotDB_allProbe_fixed_noDeamidation_wDMSO_combined-AD_PSMs_isostamp.csv'\n",
    "\n",
    "run_database_combine(directory, input_folder, output_folder, target_csv_filename, decoy_csv_filename, output_filename)"
   ]
  },
  {
   "cell_type": "code",
   "execution_count": null,
   "metadata": {},
   "outputs": [],
   "source": []
  },
  {
   "cell_type": "code",
   "execution_count": null,
   "metadata": {},
   "outputs": [],
   "source": []
  }
 ],
 "metadata": {
  "kernelspec": {
   "display_name": "Python 3",
   "language": "python",
   "name": "python3"
  },
  "language_info": {
   "codemirror_mode": {
    "name": "ipython",
    "version": 3
   },
   "file_extension": ".py",
   "mimetype": "text/x-python",
   "name": "python",
   "nbconvert_exporter": "python",
   "pygments_lexer": "ipython3",
   "version": "3.7.3"
  }
 },
 "nbformat": 4,
 "nbformat_minor": 4
}
